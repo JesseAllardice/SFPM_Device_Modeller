{
 "cells": [
  {
   "cell_type": "code",
   "execution_count": null,
   "metadata": {},
   "outputs": [],
   "source": [
    "import numpy as np\n",
    "import pandas\n",
    "import math\n",
    "import matplotlib.pyplot as plt\n",
    "from matplotlib import ticker\n",
    "import os"
   ]
  },
  {
   "cell_type": "code",
   "execution_count": null,
   "metadata": {},
   "outputs": [],
   "source": [
    "# set the input parameters\n",
    "eta_QD = 1\n",
    "eta_EMF = 2\n",
    "\n",
    "solution_conc_TIPS_Tc = 200 # mg/mL\n",
    "solution_conc_QD = 100 # mg/mL\n",
    "mass_quotient = solution_conc_QD/solution_conc_TIPS_Tc\n",
    "\n",
    "solution_to_solid_ratio = 140 # convert solution mass attenutation coeff to solid state attenutation coeff\n",
    "\n",
    "def calc_f(solution_conc_QD, solution_conc_TIPS_Tc):\n",
    "    \"\"\" calculate the QD mass fraction from the precurser solution concentrations\n",
    "    args: \n",
    "    solution_conc_QD = the solution conc for the QD\n",
    "    solution_conc_TIPS_Tc = the solution conc for the TIPS-Tc\n",
    "    outputs:\n",
    "    the QD mass fraction\n",
    "    \"\"\"\n",
    "    ans = solution_conc_QD/(solution_conc_QD + solution_conc_TIPS_Tc)\n",
    "    return ans\n",
    "\n",
    "f = calc_f(solution_conc_QD, solution_conc_TIPS_Tc)"
   ]
  },
  {
   "cell_type": "code",
   "execution_count": null,
   "metadata": {},
   "outputs": [],
   "source": [
    "# load absorption data\n",
    "\n",
    "def load_absorption_data(data_path, ratio):\n",
    "    df = pandas.read_csv(data_path)\n",
    "    df['ratio'] = ratio\n",
    "    df['Attenuation Coeff base 10 (cm-1)'] = \\\n",
    "        df['Mass Attenuation Coeff (Lg-1cm-1)']*df['ratio']\n",
    "    df['Attenuation Coeff (cm-1)'] = \\\n",
    "        df['Attenuation Coeff base 10 (cm-1)']*np.log(10)\n",
    "    return df\n",
    "\n",
    "def load_absorption_test():\n",
    "    TIPS_Tc_data_path = 'Experimental_Data\\Mass Attenutation Coeffs TIPS-Tc.csv'\n",
    "    TIPS_Tc_data = pandas.read_csv(TIPS_Tc_data_path)\n",
    "    TIPS_Tc_data['ratio']=solution_to_solid_ratio\n",
    "    TIPS_Tc_data['Attenuation Coeff base 10 (cm-1)'] = TIPS_Tc_data['Mass Attenuation Coeff (Lg-1cm-1)']*TIPS_Tc_data['ratio']\n",
    "    TIPS_Tc_data['Attenuation Coeff (cm-1)'] = TIPS_Tc_data['Attenuation Coeff base 10 (cm-1)']*np.log(10)\n",
    "    test_value = np.array(TIPS_Tc_data[:10])\n",
    "    value = np.array(load_absorption_data(TIPS_Tc_data_path, solution_to_solid_ratio)[:10])\n",
    "    assert np.all((test_value - value)==0)\n",
    "\n",
    "TIPS_Tc_data_path = 'Experimental_Data\\Mass Attenutation Coeffs TIPS-Tc.csv'\n",
    "TIPS_Tc_data = load_absorption_data(TIPS_Tc_data_path, solution_to_solid_ratio)\n",
    "\n",
    "QD_data_path = 'Experimental_Data\\Mass Attenutation Coeffs PbS-TET-CA.csv'\n",
    "QD_data = load_absorption_data(QD_data_path, solution_to_solid_ratio*mass_quotient)"
   ]
  },
  {
   "cell_type": "code",
   "execution_count": null,
   "metadata": {},
   "outputs": [],
   "source": [
    "# set the varaiables\n",
    "wl = np.array(QD_data['Wavelength (nm)'])\n"
   ]
  },
  {
   "cell_type": "code",
   "execution_count": null,
   "metadata": {},
   "outputs": [],
   "source": [
    "# extraction absorption ratios\n",
    "mu_SF = np.array(TIPS_Tc_data['Attenuation Coeff (cm-1)'])\n",
    "mu_QD = np.array(QD_data['Attenuation Coeff (cm-1)'])\n",
    "alpha_SF = mu_SF/(mu_SF+mu_QD)\n",
    "alpha_QD = 1 - alpha_SF"
   ]
  },
  {
   "cell_type": "code",
   "execution_count": null,
   "metadata": {},
   "outputs": [],
   "source": [
    "def Calc_eta_PM(eta_QD, alpha_QD,alpha_SF,eta_EMF):\n",
    "    \"\"\" calculates the wavelength dependent eta_PM, the SF_PM PLQE\n",
    "    \"\"\"\n",
    "    return eta_QD*(alpha_QD + alpha_SF*eta_EMF)\n",
    "\n",
    "def Calc_eta_PM_test1():\n",
    "    # no sf absorption condition\n",
    "    test_alpha_QD = np.ones(100)\n",
    "    test_alpha_SF = np.zeros(100)\n",
    "    test_eta_QD = 1\n",
    "    test_eta_EMF = 2\n",
    "    assert Calc_eta_PM(test_eta_QD, test_alpha_QD,test_alpha_SF,test_eta_EMF) == np.ones(100)\n",
    "\n",
    "def Calc_eta_PM_test1():\n",
    "    # no QD absorption condition\n",
    "    test_alpha_QD = np.zeros(100)\n",
    "    test_alpha_SF = np.ones(100)\n",
    "    test_eta_QD = 1\n",
    "    test_eta_EMF = 2\n",
    "    assert Calc_eta_PM(test_eta_QD, test_alpha_QD,test_alpha_SF,test_eta_EMF) == 2*np.ones(100)\n",
    "\n"
   ]
  },
  {
   "cell_type": "code",
   "execution_count": null,
   "metadata": {},
   "outputs": [],
   "source": [
    "# calculate the PLQE of the SFPM\n",
    "eta_PM = Calc_eta_PM(eta_QD, alpha_QD,alpha_SF,eta_EMF)"
   ]
  },
  {
   "cell_type": "code",
   "execution_count": null,
   "metadata": {},
   "outputs": [],
   "source": [
    "# plot the PLQE vs Wavelength\n",
    "\n",
    "Blue = '#046DE0'\n",
    "Yellow = '#FDBE3D'\n",
    "Green = '#38B99E'\n",
    "Dark_Grey = '#515151'\n",
    "\n",
    "\n",
    "fig, ax = plt.subplots(1,1)\n",
    "ax.plot(wl,eta_PM, color = Green,ls = \"-\",lw=5)\n",
    "\n",
    "ax.set_xlim(400,650)\n",
    "ax.set_ylim(0,2)\n",
    "ax.set_xlabel('Wavelength (nm)')\n",
    "ax.set_ylabel(r'$\\eta_{PM}$')\n",
    "yticker = ticker.MultipleLocator(0.5)\n",
    "ax.yaxis.set_major_locator(yticker)\n",
    "xticker = ticker.MultipleLocator(100)\n",
    "ax.xaxis.set_major_locator(xticker)"
   ]
  },
  {
   "cell_type": "code",
   "execution_count": null,
   "metadata": {},
   "outputs": [],
   "source": []
  }
 ],
 "metadata": {
  "language_info": {
   "codemirror_mode": {
    "name": "ipython",
    "version": 3
   },
   "file_extension": ".py",
   "mimetype": "text/x-python",
   "name": "python",
   "nbconvert_exporter": "python",
   "pygments_lexer": "ipython3",
   "version": 3
  },
  "orig_nbformat": 2,
  "kernelspec": {
   "name": "python_defaultSpec_1594769552039",
   "display_name": "Python 3.7.5 64-bit ('ProgramData': virtualenv)"
  }
 },
 "nbformat": 4,
 "nbformat_minor": 2
}