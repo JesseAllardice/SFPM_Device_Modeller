{
 "cells": [
  {
   "cell_type": "code",
   "execution_count": null,
   "metadata": {},
   "outputs": [],
   "source": [
    "import numpy as np\n",
    "from scipy.interpolate import interp1d\n",
    "import pandas\n",
    "import math\n",
    "import matplotlib.pyplot as plt\n",
    "from matplotlib import ticker\n",
    "import os"
   ]
  },
  {
   "cell_type": "code",
   "execution_count": null,
   "metadata": {},
   "outputs": [],
   "source": [
    "# set the input parameters\n",
    "eta_QD = 1\n",
    "eta_EMF = 2\n",
    "eta_SSET = 1\n",
    "\n",
    "mu_Singlet_Sensitiser = 4000 # attenuation coefficient base e (cm-1)\n",
    "\n",
    "solution_conc_TIPS_Tc = 200 # mg/mL\n",
    "solution_conc_QD = 100 # mg/mL\n",
    "mass_quotient = solution_conc_QD/solution_conc_TIPS_Tc\n",
    "\n",
    "solution_to_solid_ratio = 140 # convert solution mass attenutation coeff to solid state attenutation coeff\n",
    "\n",
    "def calc_f(solution_conc_QD, solution_conc_TIPS_Tc):\n",
    "    \"\"\" calculate the QD mass fraction from the precurser solution concentrations\n",
    "    args: \n",
    "    solution_conc_QD = the solution conc for the QD\n",
    "    solution_conc_TIPS_Tc = the solution conc for the TIPS-Tc\n",
    "    outputs:\n",
    "    the QD mass fraction\n",
    "    \"\"\"\n",
    "    ans = solution_conc_QD/(solution_conc_QD + solution_conc_TIPS_Tc)\n",
    "    return ans\n",
    "\n",
    "f = calc_f(solution_conc_QD, solution_conc_TIPS_Tc)"
   ]
  },
  {
   "cell_type": "code",
   "execution_count": null,
   "metadata": {},
   "outputs": [],
   "source": [
    "# load absorption data\n",
    "\n",
    "def load_absorption_data(data_path, ratio):\n",
    "    df = pandas.read_csv(data_path)\n",
    "    df['ratio'] = ratio\n",
    "    df['Attenuation Coeff base 10 (cm-1)'] = \\\n",
    "        df['Mass Attenuation Coeff (Lg-1cm-1)']*df['ratio']\n",
    "    df['Attenuation Coeff (cm-1)'] = \\\n",
    "        df['Attenuation Coeff base 10 (cm-1)']*np.log(10)\n",
    "    return df\n",
    "\n",
    "def load_absorption_test():\n",
    "    TIPS_Tc_data_path = 'Experimental_Data\\Mass Attenutation Coeffs TIPS-Tc.csv'\n",
    "    TIPS_Tc_data = pandas.read_csv(TIPS_Tc_data_path)\n",
    "    TIPS_Tc_data['ratio']=solution_to_solid_ratio\n",
    "    TIPS_Tc_data['Attenuation Coeff base 10 (cm-1)'] = TIPS_Tc_data['Mass Attenuation Coeff (Lg-1cm-1)']*TIPS_Tc_data['ratio']\n",
    "    TIPS_Tc_data['Attenuation Coeff (cm-1)'] = TIPS_Tc_data['Attenuation Coeff base 10 (cm-1)']*np.log(10)\n",
    "    test_value = np.array(TIPS_Tc_data[:10])\n",
    "    value = np.array(load_absorption_data(TIPS_Tc_data_path, solution_to_solid_ratio)[:10])\n",
    "    assert np.all((test_value - value)==0)\n",
    "\n",
    "TIPS_Tc_data_path = 'Experimental_Data\\Mass Attenutation Coeffs TIPS-Tc.csv'\n",
    "TIPS_Tc_data = load_absorption_data(TIPS_Tc_data_path, solution_to_solid_ratio)\n",
    "\n",
    "QD_data_path = 'Experimental_Data\\Mass Attenutation Coeffs PbS-TET-CA.csv'\n",
    "QD_data = load_absorption_data(QD_data_path, solution_to_solid_ratio*mass_quotient)\n",
    "\n",
    "TIPS_An_data_path = 'Experimental_Data\\Absorbance TIPS-An.csv'\n",
    "TIPS_An_data = pandas.read_csv(TIPS_An_data_path)"
   ]
  },
  {
   "cell_type": "code",
   "execution_count": null,
   "metadata": {},
   "outputs": [],
   "source": [
    "# set the varaiables\n",
    "wl = np.array(QD_data['Wavelength (nm)'])\n"
   ]
  },
  {
   "cell_type": "code",
   "execution_count": null,
   "metadata": {},
   "outputs": [],
   "source": [
    "# extraction absorption ratios\n",
    "mu_SF = np.array(TIPS_Tc_data['Attenuation Coeff (cm-1)'])\n",
    "mu_QD = np.array(QD_data['Attenuation Coeff (cm-1)'])\n",
    "mu_Sen = mu_Singlet_Sensitiser * np.array(TIPS_An_data['Mass Attenuation Coeff (Lg-1cm-1)'])\n",
    "mu_total = mu_SF + mu_QD + mu_Sen\n",
    "alpha_SF = mu_SF/mu_total\n",
    "alpha_QD = mu_QD/mu_total\n",
    "alpha_Sen = mu_Sen/mu_total"
   ]
  },
  {
   "cell_type": "code",
   "execution_count": null,
   "metadata": {},
   "outputs": [],
   "source": [
    "def Calc_eta_PM(eta_QD,eta_SSET, eta_EMF, alpha_QD, alpha_SF, alpha_Sen):\n",
    "    \"\"\" calculates the wavelength dependent eta_PM, the SF_PM PLQE\n",
    "    \"\"\"\n",
    "    return eta_QD*( alpha_QD + (alpha_SF + alpha_Sen*eta_SSET)*eta_EMF )\n",
    "\n",
    "def Calc_eta_PM_test1():\n",
    "    # no sf absorption condition\n",
    "    test_alpha_QD = np.ones(100)\n",
    "    test_alpha_SF = np.zeros(100)\n",
    "    test_eta_QD = 1\n",
    "    test_eta_EMF = 2\n",
    "    assert Calc_eta_PM(test_eta_QD, test_alpha_QD,test_alpha_SF,test_eta_EMF) == np.ones(100)\n",
    "\n",
    "def Calc_eta_PM_test1():\n",
    "    # no QD absorption condition\n",
    "    test_alpha_QD = np.zeros(100)\n",
    "    test_alpha_SF = np.ones(100)\n",
    "    test_eta_QD = 1\n",
    "    test_eta_EMF = 2\n",
    "    assert Calc_eta_PM(test_eta_QD, test_alpha_QD,test_alpha_SF,test_eta_EMF) == 2*np.ones(100)\n",
    "\n"
   ]
  },
  {
   "cell_type": "code",
   "execution_count": null,
   "metadata": {},
   "outputs": [],
   "source": [
    "# calculate the PLQE of the SFPM\n",
    "eta_PM = Calc_eta_PM(eta_QD,eta_SSET, eta_EMF, alpha_QD, alpha_SF, alpha_Sen)\n",
    "eta_PM_no_EMF = Calc_eta_PM(eta_QD,eta_SSET, 0 , alpha_QD, alpha_SF, alpha_Sen)\n",
    "eta_PM_no_SSET = Calc_eta_PM(eta_QD, 0 , eta_EMF , alpha_QD, alpha_SF, alpha_Sen)"
   ]
  },
  {
   "cell_type": "code",
   "execution_count": null,
   "metadata": {},
   "outputs": [],
   "source": [
    "# plot the PLQE vs Wavelength\n",
    "\n",
    "Blue = '#046DE0'\n",
    "Yellow = '#FDBE3D'\n",
    "Green = '#38B99E'\n",
    "Dark_Grey = '#515151'\n",
    "\n",
    "\n",
    "fig, ax = plt.subplots(1,1)\n",
    "ax.plot(wl,eta_PM, color = Green,ls = \"-\",lw=5)\n",
    "ax.plot(wl,eta_PM_no_SSET, color = Yellow,ls = \"-\",lw=5)\n",
    "ax.plot(wl,eta_PM_no_EMF, color = Dark_Grey,ls = \"-\",lw=5)\n",
    "\n",
    "ax.set_xlim(400,650)\n",
    "ax.set_ylim(0,2)\n",
    "ax.set_xlabel('Wavelength (nm)')\n",
    "ax.set_ylabel(r'$\\eta_{PM}$')\n",
    "yticker = ticker.MultipleLocator(0.5)\n",
    "ax.yaxis.set_major_locator(yticker)\n",
    "xticker = ticker.MultipleLocator(100)\n",
    "ax.xaxis.set_major_locator(xticker)"
   ]
  },
  {
   "cell_type": "code",
   "execution_count": null,
   "metadata": {},
   "outputs": [],
   "source": [
    "# extraction absorption ratios\n",
    "mu_SF = np.array(TIPS_Tc_data['Attenuation Coeff (cm-1)'])\n",
    "mu_QD = np.array(QD_data['Attenuation Coeff (cm-1)'])\n",
    "mu_Sen = np.array(TIPS_An_data['Mass Attenuation Coeff (Lg-1cm-1)'])\n",
    "n = len(mu_SF)\n",
    "\n",
    "# amplitude varaiable for the sensitiser\n",
    "min_log10_amp = -5\n",
    "max_log10_amp = 7\n",
    "step_log10_amp = 0.1\n",
    "n_steps_amp = (max_log10_amp-min_log10_amp)/step_log10_amp\n",
    "amp = 10**np.linspace(min_log10_amp,max_log10_amp,n_steps_amp+1)\n",
    "m = len(amp)\n",
    "\n",
    "# set up the mu matrices\n",
    "mu_SF = np.reshape(mu_SF,(n,1)) @ np.ones((1,m))\n",
    "mu_QD = np.reshape(mu_QD,(n,1)) @ np.ones((1,m))\n",
    "mu_Sen = np.reshape(mu_Sen,(n,1)) @ np.reshape(amp,(1,m))\n",
    "\n",
    "# calculate the total mu and the fraction absorptions\n",
    "mu_total = mu_SF + mu_QD + mu_Sen\n",
    "alpha_SF = mu_SF/mu_total\n",
    "alpha_QD = mu_QD/mu_total\n",
    "alpha_Sen = mu_Sen/mu_total\n"
   ]
  },
  {
   "cell_type": "code",
   "execution_count": null,
   "metadata": {},
   "outputs": [],
   "source": [
    "# calculate the PLQE of the SFPM\n",
    "eta_PM = Calc_eta_PM(eta_QD,eta_SSET, eta_EMF, alpha_QD, alpha_SF, alpha_Sen)"
   ]
  },
  {
   "cell_type": "code",
   "execution_count": null,
   "metadata": {},
   "outputs": [],
   "source": [
    "# plot the PLQE vs Wavelength\n",
    "\n",
    "fig, ax = plt.subplots(1,1)\n",
    "pcm = ax.pcolormesh(wl,alpha_Sen[-1,:],eta_PM.T,\\\n",
    "    vmin = 0, vmax = 2\\\n",
    "    )\n",
    "fig.colorbar(pcm,ax=ax)\n",
    "#ax.set_yscale('log')\n",
    "\n",
    "ax.set_xlim(400,650)\n",
    "ax.set_ylim(0,1)\n",
    "\n",
    "ax.set_xlabel('Wavelength (nm)')\n",
    "ax.set_ylabel(r'$\\alpha_{Sen}$')\n",
    "#yticker = ticker.MultipleLocator(0.5)\n",
    "#ax.yaxis.set_major_locator(yticker)\n",
    "xticker = ticker.MultipleLocator(100)\n",
    "ax.xaxis.set_major_locator(xticker)"
   ]
  },
  {
   "cell_type": "code",
   "execution_count": null,
   "metadata": {
    "tags": []
   },
   "outputs": [],
   "source": [
    "# investigate a particular wavelength\n",
    "ind =  1167 # 422 nm\n",
    "ind = 1184 # 405 nm\n",
    "print('displaying the PM efficiency at ',wl[ind],' nm.')\n",
    "\n",
    "x=alpha_Sen[ind,:]\n",
    "y=eta_PM[ind,:]\n",
    "\n",
    "fig, ax = plt.subplots(1,1)\n",
    "ax.plot(x,y, color = Green,ls = \"-\",lw=5)\n",
    "\n",
    "ax.set_xlim(0,1)\n",
    "ax.set_ylim(0,2)\n",
    "ax.set_xlabel(r'$\\alpha_{Sen}$')\n",
    "ax.set_ylabel(r'$\\eta_{PM}$')\n",
    "yticker = ticker.MultipleLocator(0.5)\n",
    "ax.yaxis.set_major_locator(yticker)\n",
    "xticker = ticker.MultipleLocator(0.2)\n",
    "ax.xaxis.set_major_locator(xticker)"
   ]
  },
  {
   "cell_type": "code",
   "execution_count": null,
   "metadata": {
    "tags": []
   },
   "outputs": [],
   "source": [
    "# investigate a particular wavelength\n",
    "ind =  1167 # 422 nm\n",
    "ind = 1184 # 405 nm\n",
    "print('displaying the PM efficiency at ',wl[ind],' nm.')\n",
    "\n",
    "x=mu_Sen[ind,:]\n",
    "y=eta_PM[ind,:]\n",
    "\n",
    "fig, ax = plt.subplots(1,1)\n",
    "ax.plot(x,y, color = Green,ls = \"-\",lw=5)\n",
    "\n",
    "ax.set_xscale('log')\n",
    "ax.set_xlim(10,1000000)\n",
    "ax.set_ylim(0,2)\n",
    "ax.set_xlabel(r'$\\mu_{Sen}$')\n",
    "ax.set_ylabel(r'$\\eta_{PM}$')\n",
    "yticker = ticker.MultipleLocator(0.5)\n",
    "ax.yaxis.set_major_locator(yticker)\n",
    "#xticker = ticker.MultipleLocator(0.2)\n",
    "#ax.xaxis.set_major_locator(xticker)"
   ]
  },
  {
   "cell_type": "code",
   "execution_count": null,
   "metadata": {},
   "outputs": [],
   "source": [
    "# optimal PM performance\n",
    "# 2 x E_gap(Si) = 2.2 ev ~ 563.6 nm\n",
    "PM_cutoff = 563.6\n",
    "mu_SF_optimal = np.array(wl<=PM_cutoff)\n",
    "mu_QD_optimal = np.array(wl>PM_cutoff)\n",
    "mu_Sen_optimal = np.zeros(np.shape(mu_SF_optimal))\n",
    "mu_total_optimal = mu_SF_optimal + mu_QD_optimal + mu_Sen_optimal\n",
    "alpha_SF_optimal = mu_SF_optimal/mu_total_optimal\n",
    "alpha_QD_optimal = mu_QD_optimal/mu_total_optimal\n",
    "alpha_Sen_optimal = mu_Sen_optimal/mu_total_optimal\n",
    "eta_PM_optimal = Calc_eta_PM(eta_QD,eta_SSET, eta_EMF, alpha_QD_optimal, alpha_SF_optimal, alpha_Sen_optimal)"
   ]
  },
  {
   "cell_type": "code",
   "execution_count": null,
   "metadata": {},
   "outputs": [],
   "source": [
    "# compare with and without reasonable Sen \n",
    "# find the peak of the sf attenuation\n",
    "max_mu_SF = np.max(mu_SF,axis = 0)\n",
    " \n",
    "# find the index of closest value in amp\n",
    "arg_min = np.argmin(np.abs(amp-max_mu_SF))\n",
    "\n",
    "fig, ax = plt.subplots(1,1)\n",
    "\n",
    "# eta_PM = 2 guide\n",
    "ax.plot([300,650],[2,2], color = '0.6', ls = '--',lw=5)\n",
    "# eta_PM = 1 guide\n",
    "ax.plot([300,650],[1,1], color = '0.8', ls = '--',lw=5)\n",
    "\n",
    "ax.fill_between(wl,eta_PM_optimal,eta_PM[:, arg_min],color = Dark_Grey,alpha = 0.3)\n",
    "ax.plot(wl,eta_PM_optimal, color = Dark_Grey,ls = \"-\",lw=5)\n",
    "\n",
    "\n",
    "ax.fill_between(wl,eta_PM[:, 0],eta_PM[:, arg_min],color = Green,alpha = 0.5)\n",
    "ax.plot(wl,eta_PM[:, 0], color = Yellow,ls = (1,(3,1)),lw=5)\n",
    "ax.plot(wl,eta_PM[:, arg_min], color = Green,ls = \"-\",lw=5)\n",
    "\n",
    "ax.set_xlim(400,650)\n",
    "ax.set_ylim(0,2.2)\n",
    "ax.set_xlabel('Wavelength (nm)')\n",
    "ax.set_ylabel(r'$\\eta_{PM}$')\n",
    "yticker = ticker.MultipleLocator(0.5)\n",
    "ax.yaxis.set_major_locator(yticker)\n",
    "xticker = ticker.MultipleLocator(100)\n",
    "ax.xaxis.set_major_locator(xticker)"
   ]
  },
  {
   "cell_type": "code",
   "execution_count": null,
   "metadata": {},
   "outputs": [],
   "source": [
    "Solar_data_path = 'Experimental_Data\\AM1p5G solar spectrum.csv'\n",
    "Solar_data = pandas.read_csv(Solar_data_path)\n",
    "Solar_spec = np.array(Solar_data['photon flux (s-1 m-2 nm-1)'])\n",
    "wl_spec = np.array(Solar_data['Wvlgth nm'])\n",
    "Solar_interp = interp1d(wl_spec,Solar_spec)\n",
    "solar = np.reshape(np.array(Solar_interp(wl)),(n,1))\n"
   ]
  },
  {
   "cell_type": "code",
   "execution_count": null,
   "metadata": {},
   "outputs": [],
   "source": [
    "# clip by the Si bandgap\n",
    "Si_cutoff = 2*563.6\n",
    "Abs_Si = np.reshape(np.array(wl<Si_cutoff),(n,1))\n",
    "\n",
    "I_lambda = Abs_Si*solar\n",
    "I_lambda_optimal = np.reshape(eta_PM_optimal,(n,1))*Abs_Si*solar\n",
    "I_lambda_no_sen = eta_PM[:, [0]]*Abs_Si*solar\n",
    "I_lambda_sen = eta_PM[:, [arg_min]]*Abs_Si*solar\n",
    "\n",
    "fig, ax = plt.subplots(1,1)\n",
    "ax.plot(wl,solar, color = '0.8', ls = '-' ,lw=5)\n",
    "ax.plot(wl,I_lambda, color = '0.6', ls = '-',lw=5)\n",
    "\n",
    "ax.fill_between(wl,I_lambda_optimal[:,0],I_lambda_sen[:,0],color = Dark_Grey,alpha = 0.3)\n",
    "ax.plot(wl,I_lambda_optimal, color = Dark_Grey,ls = \"-\",lw=5)\n",
    "\n",
    "ax.fill_between(wl,I_lambda_no_sen[:,0],I_lambda_sen[:,0],color = Green,alpha = 0.5)\n",
    "ax.plot(wl,I_lambda_no_sen, color = Yellow,ls = '-',lw=5)\n",
    "ax.plot(wl,I_lambda_sen, color = Green,ls = \"-\",lw=5)\n",
    "\n",
    "ax.set_xlim(400,1600)\n",
    "ax.set_ylim(0, 9E18)\n",
    "ax.set_xlabel('Wavelength (nm)')\n",
    "ax.set_ylabel(r'$Photons per sec per m^2$')\n",
    "#yticker = ticker.MultipleLocator(0.5)\n",
    "#ax.yaxis.set_major_locator(yticker)\n",
    "xticker = ticker.MultipleLocator(100)\n",
    "ax.xaxis.set_major_locator(xticker)"
   ]
  },
  {
   "cell_type": "code",
   "execution_count": null,
   "metadata": {
    "tags": []
   },
   "outputs": [],
   "source": [
    "def integrate_spec(x, spec):\n",
    "    dx = np.abs(x[1]-x[0])\n",
    "    return np.sum(spec,axis = 0)*dx\n",
    "\n",
    "I = integrate_spec(wl,I_lambda)\n",
    "I_optimal = integrate_spec(wl,I_lambda_optimal)\n",
    "I_no_sen = integrate_spec(wl,I_lambda_no_sen)\n",
    "I_sen = integrate_spec(wl,I_lambda_sen)\n",
    "\n",
    "print(I/I,'\\n',I_optimal/I,'\\n',I_no_sen/I,'\\n',I_sen/I)"
   ]
  },
  {
   "cell_type": "code",
   "execution_count": null,
   "metadata": {},
   "outputs": [],
   "source": []
  }
 ],
 "metadata": {
  "language_info": {
   "codemirror_mode": {
    "name": "ipython",
    "version": 3
   },
   "file_extension": ".py",
   "mimetype": "text/x-python",
   "name": "python",
   "nbconvert_exporter": "python",
   "pygments_lexer": "ipython3",
   "version": 3
  },
  "orig_nbformat": 2,
  "kernelspec": {
   "name": "python_defaultSpec_1594764379139",
   "display_name": "Python 3.7.5 64-bit ('ProgramData': virtualenv)"
  }
 },
 "nbformat": 4,
 "nbformat_minor": 2
}